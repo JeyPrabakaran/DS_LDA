{
 "cells": [
  {
   "cell_type": "code",
   "execution_count": 1,
   "id": "fe665950-78a8-4506-84c9-9a9cfe5d8427",
   "metadata": {},
   "outputs": [],
   "source": [
    "import pandas as pd\n",
    "from sklearn.model_selection import train_test_split\n",
    "from sklearn.preprocessing import StandardScaler\n",
    "from sklearn.discriminant_analysis import LinearDiscriminantAnalysis as LDA\n",
    "from sklearn.metrics import r2_score\n",
    "from sklearn.linear_model import LinearRegression\n",
    "from sklearn.svm import SVR\n",
    "from sklearn.tree import DecisionTreeRegressor\n",
    "from sklearn.ensemble import RandomForestRegressor"
   ]
  },
  {
   "cell_type": "code",
   "execution_count": 2,
   "id": "7b6360a4-4e18-429e-b13a-173528a2c853",
   "metadata": {},
   "outputs": [],
   "source": [
    "# Function for splitting the data and applying LDA\n",
    "#LDA Components: The n_components parameter should not exceed min(n_classes - 1, n_features),\n",
    "#where n_classes is the number of unique classes in target variable, and n_features is the number of input features. \n",
    "#For the Wine dataset, which has 3 classes, the maximum number of components  can use is 2.\n",
    "#Data Scaling: correctly applying standard scaling before performing LDA, which is essential since LDA is sensitive to the scale of the data.\n",
    "def split_lda(indep_X, dep_Y, n_components=1):\n",
    "    X_train, X_test, y_train, y_test = train_test_split(indep_X, dep_Y, test_size=0.25, random_state=0)\n",
    "    sc = StandardScaler()\n",
    "    X_train = sc.fit_transform(X_train)\n",
    "    X_test = sc.transform(X_test)\n",
    "    \n",
    "    lda = LDA(n_components=n_components)\n",
    "    X_train_lda = lda.fit_transform(X_train, y_train)\n",
    "    X_test_lda = lda.transform(X_test)\n",
    "    \n",
    "    return X_train_lda, X_test_lda, y_train, y_test"
   ]
  },
  {
   "cell_type": "code",
   "execution_count": 3,
   "id": "fd2621ef-1d2c-41af-8e0e-41950c10c7df",
   "metadata": {},
   "outputs": [],
   "source": [
    "# Function for calculating R2 score\n",
    "def r2_prediction(regressor, X_test, y_test):\n",
    "    y_pred = regressor.predict(X_test)\n",
    "    r2 = r2_score(y_test, y_pred)\n",
    "    return r2"
   ]
  },
  {
   "cell_type": "code",
   "execution_count": 4,
   "id": "865b8a28-f8c8-45c4-a5f0-f6217980f379",
   "metadata": {},
   "outputs": [],
   "source": [
    "# Regression models\n",
    "def linear(X_train, y_train, X_test, y_test):\n",
    "    regressor = LinearRegression()\n",
    "    regressor.fit(X_train, y_train)\n",
    "    return r2_prediction(regressor, X_test, y_test)\n",
    "\n",
    "def svm_linear(X_train, y_train, X_test, y_test):\n",
    "    regressor = SVR(kernel='linear')\n",
    "    regressor.fit(X_train, y_train)\n",
    "    return r2_prediction(regressor, X_test, y_test)\n",
    "\n",
    "def svm_nl(X_train, y_train, X_test, y_test):\n",
    "    regressor = SVR(kernel='rbf')\n",
    "    regressor.fit(X_train, y_train)\n",
    "    return r2_prediction(regressor, X_test, y_test)\n",
    "\n",
    "def decision_tree(X_train, y_train, X_test, y_test):\n",
    "    regressor = DecisionTreeRegressor(random_state=0)\n",
    "    regressor.fit(X_train, y_train)\n",
    "    return r2_prediction(regressor, X_test, y_test)\n",
    "\n",
    "def random_forest(X_train, y_train, X_test, y_test):\n",
    "    regressor = RandomForestRegressor(n_estimators=10, random_state=0)\n",
    "    regressor.fit(X_train, y_train)\n",
    "    return r2_prediction(regressor, X_test, y_test)\n"
   ]
  },
  {
   "cell_type": "code",
   "execution_count": 5,
   "id": "9fb5f9e8-fcf3-4bfd-a719-5f7d30f3bfbc",
   "metadata": {},
   "outputs": [],
   "source": [
    "# Aggregating the results\n",
    "def lda_regression(acclin, accsvml, accsvmnl, accdes, accrf, n_components): \n",
    "    dataframe = pd.DataFrame(index=[f'LDA-{n_components}'], columns=['Linear', 'SVMl', 'SVMnl', 'Decision', 'Random'])\n",
    "    \n",
    "    dataframe['Linear'] = acclin\n",
    "    dataframe['SVMl'] = accsvml\n",
    "    dataframe['SVMnl'] = accsvmnl\n",
    "    dataframe['Decision'] = accdes\n",
    "    dataframe['Random'] = accrf\n",
    "    \n",
    "    return dataframe\n"
   ]
  },
  {
   "cell_type": "code",
   "execution_count": 6,
   "id": "7647c5e0-f521-4f3f-b08c-6b10b36e2607",
   "metadata": {},
   "outputs": [],
   "source": [
    "# Loading the Wine dataset\n",
    "dataset = pd.read_csv(\"Wine.csv\")\n",
    "indep_X = dataset.iloc[:, 0:13].values\n",
    "dep_Y = dataset.iloc[:, 13].values\n"
   ]
  },
  {
   "cell_type": "code",
   "execution_count": 8,
   "id": "78b8b599-5593-43b4-b43d-2e3d34d9d208",
   "metadata": {},
   "outputs": [
    {
     "data": {
      "text/plain": [
       "array([[1.423e+01, 1.710e+00, 2.430e+00, ..., 1.040e+00, 3.920e+00,\n",
       "        1.065e+03],\n",
       "       [1.320e+01, 1.780e+00, 2.140e+00, ..., 1.050e+00, 3.400e+00,\n",
       "        1.050e+03],\n",
       "       [1.316e+01, 2.360e+00, 2.670e+00, ..., 1.030e+00, 3.170e+00,\n",
       "        1.185e+03],\n",
       "       ...,\n",
       "       [1.327e+01, 4.280e+00, 2.260e+00, ..., 5.900e-01, 1.560e+00,\n",
       "        8.350e+02],\n",
       "       [1.317e+01, 2.590e+00, 2.370e+00, ..., 6.000e-01, 1.620e+00,\n",
       "        8.400e+02],\n",
       "       [1.413e+01, 4.100e+00, 2.740e+00, ..., 6.100e-01, 1.600e+00,\n",
       "        5.600e+02]])"
      ]
     },
     "execution_count": 8,
     "metadata": {},
     "output_type": "execute_result"
    }
   ],
   "source": [
    "indep_X"
   ]
  },
  {
   "cell_type": "code",
   "execution_count": 9,
   "id": "ec785b92-227d-44db-8150-af5c37ad7ffb",
   "metadata": {},
   "outputs": [
    {
     "data": {
      "text/plain": [
       "array([1, 1, 1, 1, 1, 1, 1, 1, 1, 1, 1, 1, 1, 1, 1, 1, 1, 1, 1, 1, 1, 1,\n",
       "       1, 1, 1, 1, 1, 1, 1, 1, 1, 1, 1, 1, 1, 1, 1, 1, 1, 1, 1, 1, 1, 1,\n",
       "       1, 1, 1, 1, 1, 1, 1, 1, 1, 1, 1, 1, 1, 1, 1, 2, 2, 2, 2, 2, 2, 2,\n",
       "       2, 2, 2, 2, 2, 2, 2, 2, 2, 2, 2, 2, 2, 2, 2, 2, 2, 2, 2, 2, 2, 2,\n",
       "       2, 2, 2, 2, 2, 2, 2, 2, 2, 2, 2, 2, 2, 2, 2, 2, 2, 2, 2, 2, 2, 2,\n",
       "       2, 2, 2, 2, 2, 2, 2, 2, 2, 2, 2, 2, 2, 2, 2, 2, 2, 2, 2, 2, 3, 3,\n",
       "       3, 3, 3, 3, 3, 3, 3, 3, 3, 3, 3, 3, 3, 3, 3, 3, 3, 3, 3, 3, 3, 3,\n",
       "       3, 3, 3, 3, 3, 3, 3, 3, 3, 3, 3, 3, 3, 3, 3, 3, 3, 3, 3, 3, 3, 3,\n",
       "       3, 3])"
      ]
     },
     "execution_count": 9,
     "metadata": {},
     "output_type": "execute_result"
    }
   ],
   "source": [
    "dep_Y"
   ]
  },
  {
   "cell_type": "code",
   "execution_count": 7,
   "id": "b10c71be-b8af-471c-9672-f923e21d97f1",
   "metadata": {},
   "outputs": [
    {
     "name": "stdout",
     "output_type": "stream",
     "text": [
      "LDA Results:\n",
      "          Linear      SVMl     SVMnl  Decision    Random\n",
      "LDA-1  0.801466  0.800460  0.836602  0.867126  0.843652\n",
      "LDA-2  0.804353  0.803364  0.966316  0.911417  0.900344\n"
     ]
    }
   ],
   "source": [
    "# Loop over LDA components from 1 to 2\n",
    "#The three classes in the Wine dataset correspond to different types of wine, and they are labeled as follows:\n",
    "#Class 1: Wine type 1\n",
    "#Class 2: Wine type 2\n",
    "#Class 3: Wine type 3\n",
    "#Three Classes: Since the Wine dataset has three classes, LDA can only create 3 - 1 = 2 components.\n",
    "results = []\n",
    "\n",
    "for n in range(1, 3):\n",
    "    acclin = []\n",
    "    accsvml = []\n",
    "    accsvmnl = []\n",
    "    accdes = []\n",
    "    accrf = []\n",
    "\n",
    "    X_train_lda, X_test_lda, y_train, y_test = split_lda(indep_X, dep_Y, n_components=n)\n",
    "    \n",
    "    acclin.append(linear(X_train_lda, y_train, X_test_lda, y_test))\n",
    "    accsvml.append(svm_linear(X_train_lda, y_train, X_test_lda, y_test))\n",
    "    accsvmnl.append(svm_nl(X_train_lda, y_train, X_test_lda, y_test))\n",
    "    accdes.append(decision_tree(X_train_lda, y_train, X_test_lda, y_test))\n",
    "    accrf.append(random_forest(X_train_lda, y_train, X_test_lda, y_test))\n",
    "    \n",
    "    result = lda_regression(acclin, accsvml, accsvmnl, accdes, accrf, n_components=n)\n",
    "    results.append(result)\n",
    "\n",
    "# Combine all results into a single DataFrame\n",
    "final_results = pd.concat(results)\n",
    "print(\"LDA Results:\\n\", final_results)\n"
   ]
  },
  {
   "cell_type": "code",
   "execution_count": null,
   "id": "deafaeda-e0cc-4c92-ac9c-018a180ce3e1",
   "metadata": {},
   "outputs": [],
   "source": []
  }
 ],
 "metadata": {
  "kernelspec": {
   "display_name": "Python 3 (ipykernel)",
   "language": "python",
   "name": "python3"
  },
  "language_info": {
   "codemirror_mode": {
    "name": "ipython",
    "version": 3
   },
   "file_extension": ".py",
   "mimetype": "text/x-python",
   "name": "python",
   "nbconvert_exporter": "python",
   "pygments_lexer": "ipython3",
   "version": "3.12.4"
  }
 },
 "nbformat": 4,
 "nbformat_minor": 5
}
