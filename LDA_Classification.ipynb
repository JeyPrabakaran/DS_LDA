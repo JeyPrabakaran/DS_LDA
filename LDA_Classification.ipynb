{
 "cells": [
  {
   "cell_type": "code",
   "execution_count": 22,
   "id": "3639e403-3167-4f60-93e7-650f8e631f40",
   "metadata": {},
   "outputs": [],
   "source": [
    "import pandas as pd\n",
    "from sklearn.model_selection import train_test_split\n",
    "from sklearn.preprocessing import StandardScaler\n",
    "from sklearn.metrics import accuracy_score\n",
    "from sklearn.discriminant_analysis import LinearDiscriminantAnalysis as LDA\n",
    "from sklearn.linear_model import LogisticRegression\n",
    "from sklearn.svm import SVC\n",
    "from sklearn.neighbors import KNeighborsClassifier\n",
    "from sklearn.naive_bayes import GaussianNB\n",
    "from sklearn.tree import DecisionTreeClassifier\n",
    "from sklearn.ensemble import RandomForestClassifier\n",
    "from sklearn.metrics import confusion_matrix, accuracy_score, classification_report"
   ]
  },
  {
   "cell_type": "code",
   "execution_count": 23,
   "id": "71d0447c-4182-4730-a153-b0b8327f7c09",
   "metadata": {},
   "outputs": [],
   "source": [
    "# Function for splitting the data and scaling it\n",
    "def split_scalar(indep_X, dep_Y):\n",
    "    X_train, X_test, y_train, y_test = train_test_split(indep_X, dep_Y, test_size=0.25, random_state=0)\n",
    "    sc = StandardScaler()\n",
    "    X_train = sc.fit_transform(X_train)\n",
    "    X_test = sc.transform(X_test)\n",
    "    return X_train, X_test, y_train, y_test"
   ]
  },
  {
   "cell_type": "code",
   "execution_count": 7,
   "id": "85472f4b-813c-46ac-aabf-9a6f812b0b82",
   "metadata": {},
   "outputs": [],
   "source": [
    "# Function to apply LDA and return the transformed data\n",
    "'''def apply_lda(X_train, y_train, X_test, n_components=2):\n",
    "    lda = LDA(n_components=n_components)\n",
    "    X_train_lda = lda.fit_transform(X_train, y_train)\n",
    "    X_test_lda = lda.transform(X_test)\n",
    "    return X_train_lda, X_test_lda'''"
   ]
  },
  {
   "cell_type": "code",
   "execution_count": 30,
   "id": "be127c57-034d-428b-80bd-006174de20d7",
   "metadata": {},
   "outputs": [],
   "source": [
    "# Function to perform LDA and split the dataset\n",
    "def split_lda(indep_X, dep_Y, n_components=2):\n",
    "    X_train, X_test, y_train, y_test = train_test_split(indep_X, dep_Y, test_size=0.25, random_state=0)\n",
    "    #splits the dataset into training and testing sets, with 25% of the data allocated to the test set\n",
    "    sc = StandardScaler()#standardizes the features by removing the mean and scaling to unit variance.\n",
    "    \n",
    "    X_train = sc.fit_transform(X_train)\n",
    "    X_test = sc.transform(X_test)\n",
    "    \n",
    "    lda = LDA(n_components=n_components)\n",
    "    X_train_lda = lda.fit_transform(X_train,y_train)\n",
    "    X_test_lda = lda.transform(X_test)\n",
    "    #X_train is fitted and transformed using sc.fit_transform(X_train), \n",
    "    #and X_test is transformed using the scaler fitted on the training data with sc.transform(X_test).\n",
    "    return X_train_lda, X_test_lda, y_train, y_test"
   ]
  },
  {
   "cell_type": "code",
   "execution_count": 25,
   "id": "f11eaa33-e706-45d7-84de-50dee505af5e",
   "metadata": {},
   "outputs": [],
   "source": [
    "# Function for evaluating the model\n",
    "def cm_prediction(classifier, X_test, y_test):\n",
    "    y_pred = classifier.predict(X_test) #uses the trained classifier to predict the labels for the test set (X_test).\n",
    "    cm = confusion_matrix(y_test, y_pred) #calculates the confusion matrix, which shows the counts of true positive, true negative, false positive, and false negative predictions.\n",
    "    Accuracy = accuracy_score(y_test, y_pred) #computes the accuracy of the model, which is the ratio of correctly predicted instances to the total instances.\n",
    "    report = classification_report(y_test, y_pred) #generates a text report showing the main classification metrics, including precision, recall, and F1-score for each class.\n",
    "    return classifier, Accuracy, report, cm"
   ]
  },
  {
   "cell_type": "code",
   "execution_count": 26,
   "id": "8322d61d-65a9-4657-83e7-e65f16a63ecb",
   "metadata": {},
   "outputs": [],
   "source": [
    "# Classification models\n",
    "def logistic(X_train, y_train, X_test, y_test):       \n",
    "    classifier = LogisticRegression(random_state=0) #nitializes a logistic regression model. The random_state=0 ensures that the results\n",
    "    #are reproducible.\n",
    "    classifier.fit(X_train, y_train) #trains the logistic regression model on the training data (X_train and y_train).\n",
    "    return cm_prediction(classifier, X_test, y_test)\n",
    "    #returns the results of cm_prediction(classifier, X_test, y_test), which evaluates the trained model on the test data (X_test and y_test) \n",
    "    #and provides the classifier, accuracy score, classification report, and confusion matrix.\n",
    "\n",
    "def svm_linear(X_train, y_train, X_test, y_test):\n",
    "    classifier = SVC(kernel='linear', random_state=0) \n",
    "    classifier.fit(X_train, y_train)\n",
    "    return cm_prediction(classifier, X_test, y_test)\n",
    "\n",
    "def svm_nl(X_train, y_train, X_test, y_test):\n",
    "    classifier = SVC(kernel='rbf', random_state=0)\n",
    "    classifier.fit(X_train, y_train)\n",
    "    return cm_prediction(classifier, X_test, y_test)\n",
    "\n",
    "def navie(X_train, y_train, X_test, y_test):       \n",
    "    classifier = GaussianNB()\n",
    "    classifier.fit(X_train, y_train)\n",
    "    return cm_prediction(classifier, X_test, y_test)\n",
    "\n",
    "def knn(X_train, y_train, X_test, y_test):\n",
    "    classifier = KNeighborsClassifier(n_neighbors=5, metric='minkowski', p=2)\n",
    "    classifier.fit(X_train, y_train)\n",
    "    return cm_prediction(classifier, X_test, y_test)\n",
    "\n",
    "def decision(X_train, y_train, X_test, y_test):\n",
    "    classifier = DecisionTreeClassifier(criterion='entropy', random_state=0)\n",
    "    classifier.fit(X_train, y_train)\n",
    "    return cm_prediction(classifier, X_test, y_test)\n",
    "\n",
    "def random(X_train, y_train, X_test, y_test):\n",
    "    classifier = RandomForestClassifier(n_estimators=10, criterion='entropy', random_state=0)\n",
    "    classifier.fit(X_train, y_train)\n",
    "    return cm_prediction(classifier, X_test, y_test)"
   ]
  },
  {
   "cell_type": "code",
   "execution_count": 27,
   "id": "c74a972b-efc5-4a88-b0c8-06a3c0b22427",
   "metadata": {},
   "outputs": [],
   "source": [
    "# Function to store the accuracy results in a dataframe\n",
    "#Inputs:\n",
    "\n",
    "#acclog, accsvml, accsvmnl, accknn, accnav, accdes, accrf: These are lists containing the accuracy scores for Logistic Regression, \n",
    "#SVM (linear and non-linear), KNN, Naive Bayes, Decision Tree, and Random Forest classifiers, respectively.\n",
    "#n_components: The number of PCA components used.\n",
    "#A DataFrame is initialized with the index labeled as PCA-{n_components}, where {n_components} represents the number of components.\n",
    "#The columns correspond to the different classifiers.\n",
    "def lda_classification(acclog, accsvml, accsvmnl, accknn, accnav, accdes, accrf, n_components): \n",
    "    dataframe = pd.DataFrame(index=[f'LDA-{n_components}'], columns=['Logistic', 'SVMl', 'SVMnl', 'KNN', 'Navie', 'Decision', 'Random'])\n",
    "    dataframe['Logistic'] = acclog       \n",
    "    dataframe['SVMl'] = accsvml\n",
    "    dataframe['SVMnl'] = accsvmnl\n",
    "    dataframe['KNN'] = accknn\n",
    "    dataframe['Navie'] = accnav\n",
    "    dataframe['Decision'] = accdes\n",
    "    dataframe['Random'] = accrf\n",
    "    return dataframe"
   ]
  },
  {
   "cell_type": "code",
   "execution_count": 28,
   "id": "c8c02a98-d2d8-4fbb-96f5-8d215c7e239c",
   "metadata": {},
   "outputs": [],
   "source": [
    "# Loading the Wine dataset\n",
    "dataset = pd.read_csv(\"Wine.csv\")\n",
    "indep_X = dataset.iloc[:, 0:13].values\n",
    "dep_Y = dataset.iloc[:, 13].values"
   ]
  },
  {
   "cell_type": "code",
   "execution_count": 12,
   "id": "7e085b2d-6a5b-4c72-b207-d130beb0bece",
   "metadata": {},
   "outputs": [
    {
     "name": "stdout",
     "output_type": "stream",
     "text": [
      "[[1.423e+01 1.710e+00 2.430e+00 ... 1.040e+00 3.920e+00 1.065e+03]\n",
      " [1.320e+01 1.780e+00 2.140e+00 ... 1.050e+00 3.400e+00 1.050e+03]\n",
      " [1.316e+01 2.360e+00 2.670e+00 ... 1.030e+00 3.170e+00 1.185e+03]\n",
      " ...\n",
      " [1.327e+01 4.280e+00 2.260e+00 ... 5.900e-01 1.560e+00 8.350e+02]\n",
      " [1.317e+01 2.590e+00 2.370e+00 ... 6.000e-01 1.620e+00 8.400e+02]\n",
      " [1.413e+01 4.100e+00 2.740e+00 ... 6.100e-01 1.600e+00 5.600e+02]]\n"
     ]
    }
   ],
   "source": [
    "print(indep_X)"
   ]
  },
  {
   "cell_type": "code",
   "execution_count": 13,
   "id": "a9ca44dd-70af-47a6-a98b-fdd56f14886b",
   "metadata": {},
   "outputs": [
    {
     "name": "stdout",
     "output_type": "stream",
     "text": [
      "[1 1 1 1 1 1 1 1 1 1 1 1 1 1 1 1 1 1 1 1 1 1 1 1 1 1 1 1 1 1 1 1 1 1 1 1 1\n",
      " 1 1 1 1 1 1 1 1 1 1 1 1 1 1 1 1 1 1 1 1 1 1 2 2 2 2 2 2 2 2 2 2 2 2 2 2 2\n",
      " 2 2 2 2 2 2 2 2 2 2 2 2 2 2 2 2 2 2 2 2 2 2 2 2 2 2 2 2 2 2 2 2 2 2 2 2 2\n",
      " 2 2 2 2 2 2 2 2 2 2 2 2 2 2 2 2 2 2 2 3 3 3 3 3 3 3 3 3 3 3 3 3 3 3 3 3 3\n",
      " 3 3 3 3 3 3 3 3 3 3 3 3 3 3 3 3 3 3 3 3 3 3 3 3 3 3 3 3 3 3]\n"
     ]
    }
   ],
   "source": [
    "print(dep_Y)"
   ]
  },
  {
   "cell_type": "code",
   "execution_count": 29,
   "id": "746b1f17-4fe7-4d25-b5ea-b1d878b0bbe7",
   "metadata": {},
   "outputs": [
    {
     "name": "stdout",
     "output_type": "stream",
     "text": [
      "LDA Results for different components:\n",
      "        Logistic      SVMl     SVMnl       KNN     Navie  Decision    Random\n",
      "LDA-1  0.866667  0.866667  0.844444  0.866667  0.866667  0.933333  0.911111\n",
      "LDA-2  1.000000  0.977778  1.000000  0.977778  0.977778  0.977778  0.977778\n"
     ]
    }
   ],
   "source": [
    "results = []\n",
    "\n",
    "# Looping through LDA components from 1 to 3\n",
    "for n_components in range(1, 3):\n",
    "    acclog = []\n",
    "    accsvml = []\n",
    "    accsvmnl = []\n",
    "    accknn = []\n",
    "    accnav = []\n",
    "    accdes = []\n",
    "    accrf = []\n",
    "\n",
    "    X_train_lda, X_test_lda, y_train, y_test = split_lda(indep_X, dep_Y, n_components=n_components)\n",
    "\n",
    "    # Applying classification models\n",
    "    classifier, Accuracy, report, cm = logistic(X_train_lda, y_train, X_test_lda, y_test)\n",
    "    acclog.append(Accuracy)\n",
    "\n",
    "    classifier, Accuracy, report, cm = svm_linear(X_train_lda, y_train, X_test_lda, y_test)\n",
    "    accsvml.append(Accuracy)\n",
    "\n",
    "    classifier, Accuracy, report, cm = svm_nl(X_train_lda, y_train, X_test_lda, y_test)\n",
    "    accsvmnl.append(Accuracy)\n",
    "\n",
    "    classifier, Accuracy, report, cm = knn(X_train_lda, y_train, X_test_lda, y_test)\n",
    "    accknn.append(Accuracy)\n",
    "\n",
    "    classifier, Accuracy, report, cm = navie(X_train_lda, y_train, X_test_lda, y_test)\n",
    "    accnav.append(Accuracy)\n",
    "\n",
    "    classifier, Accuracy, report, cm = decision(X_train_lda, y_train, X_test_lda, y_test)\n",
    "    accdes.append(Accuracy)\n",
    "\n",
    "    classifier, Accuracy, report, cm = random(X_train_lda, y_train, X_test_lda, y_test)\n",
    "    accrf.append(Accuracy)\n",
    "\n",
    "    # Storing the results for each n_components\n",
    "    result = lda_classification(acclog, accsvml, accsvmnl, accknn, accnav, accdes, accrf, n_components)\n",
    "    results.append(result)\n",
    "\n",
    "# Combine all results into a single DataFrame\n",
    "final_results = pd.concat(results)\n",
    "print(\"LDA Results for different components:\\n\", final_results)\n"
   ]
  },
  {
   "cell_type": "code",
   "execution_count": null,
   "id": "25b99b28-98e5-4fea-9de6-75ca9b2b05b0",
   "metadata": {},
   "outputs": [],
   "source": []
  }
 ],
 "metadata": {
  "kernelspec": {
   "display_name": "Python 3 (ipykernel)",
   "language": "python",
   "name": "python3"
  },
  "language_info": {
   "codemirror_mode": {
    "name": "ipython",
    "version": 3
   },
   "file_extension": ".py",
   "mimetype": "text/x-python",
   "name": "python",
   "nbconvert_exporter": "python",
   "pygments_lexer": "ipython3",
   "version": "3.12.4"
  }
 },
 "nbformat": 4,
 "nbformat_minor": 5
}
